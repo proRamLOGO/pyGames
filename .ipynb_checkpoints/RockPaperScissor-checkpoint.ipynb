{
 "cells": [
  {
   "cell_type": "code",
   "execution_count": null,
   "metadata": {},
   "outputs": [],
   "source": [
    "from random import randint as r"
   ]
  },
  {
   "cell_type": "code",
   "execution_count": null,
   "metadata": {},
   "outputs": [],
   "source": [
    "def getCmpMove() :\n",
    "    x = r(1,3)\n",
    "    if x==1 :\n",
    "        return 'Rock'\n",
    "    if x==2 :\n",
    "        return 'Paper'\n",
    "    return 'Scissor'\n",
    "\n",
    "def getUsrMove() :\n",
    "    x = input('User Your Move pls:  ').title()\n",
    "    while x not in ['Rock', 'Paper', 'Scissor'] :\n",
    "        print(\"Pls make a valid move and try again !!\")\n",
    "        x = input('User Your Move pls:  ').title()\n",
    "        \n",
    "    return x\n",
    "\n",
    "def whowins( um, cm ) :\n",
    "    if (um == 'Rock' and cm == 'Scissor') or(um == 'Scissor' and cm == 'Paper') or(um == 'Paper' and cm == 'Rock') :\n",
    "        return 'User'\n",
    "    elif um == cm :\n",
    "        return 'Tie'\n",
    "    return 'Computer'\n",
    "\n",
    "def main() :\n",
    "    \n",
    "    cs = 0\n",
    "    us = 0\n",
    "    \n",
    "    while ( us != 10 and cs != 10 ) :\n",
    "        cm = getCmpMove()\n",
    "        um = getUsrMove()\n",
    "        print(\"You chose %s\\nComputer chose %s\" %(um,cm))\n",
    "        winner = whowins( um, cm )\n",
    "        \n",
    "        if winner == 'User' :\n",
    "            us += 1\n",
    "        elif winner == 'Computer':\n",
    "            cs += 1\n",
    "        else :\n",
    "            print('Its a Tie.')\n",
    "            continue\n",
    "        \n",
    "        print(winner,\"won this knock. \")\n",
    "        print(\"\\nScores\\nUser: %i\\tComputer: %i\" %(us, cs))\n",
    "    \n",
    "    if  us==10 :\n",
    "        print(\"Hurray! You won !!\\nBye\\nSee ya'\")\n",
    "    else :\n",
    "        print(\"Computer's damn smart, 'cause he won !! :P \")\n",
    "    "
   ]
  },
  {
   "cell_type": "code",
   "execution_count": null,
   "metadata": {},
   "outputs": [],
   "source": [
    "main()"
   ]
  }
 ],
 "metadata": {
  "kernelspec": {
   "display_name": "Python 3",
   "language": "python",
   "name": "python3"
  },
  "language_info": {
   "codemirror_mode": {
    "name": "ipython",
    "version": 3
   },
   "file_extension": ".py",
   "mimetype": "text/x-python",
   "name": "python",
   "nbconvert_exporter": "python",
   "pygments_lexer": "ipython3",
   "version": "3.6.5"
  }
 },
 "nbformat": 4,
 "nbformat_minor": 2
}
